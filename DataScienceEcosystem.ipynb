{
 "cells": [
  {
   "cell_type": "markdown",
   "id": "abb091c0-3cf1-46ba-9f21-69ea1a418320",
   "metadata": {},
   "source": [
    "#Data Science Tools and Ecosystem"
   ]
  },
  {
   "cell_type": "markdown",
   "id": "49c70045-732e-4e5e-afba-351b93bc7712",
   "metadata": {},
   "source": [
    "#In this notebook, Data Science Tools and Ecosystem are summarized."
   ]
  },
  {
   "cell_type": "markdown",
   "id": "a10c3ff6-4cdd-4515-87f9-93e207865ed3",
   "metadata": {},
   "source": [
    "#Some of the popular languages that Data Scientists use are:\n",
    "1. R\n",
    "2. Python\n",
    "3. SQL\n"
   ]
  },
  {
   "cell_type": "markdown",
   "id": "4c507ee8-0ed3-4305-8fb2-756fb3effbf8",
   "metadata": {},
   "source": [
    "#Objectives:\n",
    "- Learn about Data Sets\n",
    "- Learn about Data Science tools\n",
    "- Learn about Jupyter notebooks\n"
   ]
  },
  {
   "cell_type": "markdown",
   "id": "851b3a0d-2047-473f-8992-c7858e507fdb",
   "metadata": {},
   "source": [
    "#Some of the commonly used libraries used by Data Scientists include:\n",
    "1. NumPy\n",
    "2. Pandas\n",
    "3. Matplotlib\n",
    "4. TensorFlow"
   ]
  },
  {
   "cell_type": "markdown",
   "id": "f031b023-ff08-40ee-bcd4-e89fa64c0c83",
   "metadata": {},
   "source": [
    "|'Data Science Tools'|\n",
    "|------|\n",
    "|Jupyter Notebook|\n",
    "|RStudio|\n",
    "|Visual Studio|\n",
    "print\n",
    "\n",
    " "
   ]
  },
  {
   "cell_type": "code",
   "execution_count": 15,
   "id": "1a2d0f71-c0ac-44fd-b06e-9f620412dc0b",
   "metadata": {},
   "outputs": [
    {
     "data": {
      "text/plain": [
       "-15"
      ]
     },
     "execution_count": 15,
     "metadata": {},
     "output_type": "execute_result"
    }
   ],
   "source": [
    "#Below are a few examples of evaluating arithmetic expressions in Python.\n",
    "(1-6)*3\n"
   ]
  },
  {
   "cell_type": "code",
   "execution_count": 21,
   "id": "b9180f86-0ddf-43d5-8eb0-f867f074a339",
   "metadata": {},
   "outputs": [
    {
     "data": {
      "text/plain": [
       "8"
      ]
     },
     "execution_count": 21,
     "metadata": {},
     "output_type": "execute_result"
    }
   ],
   "source": [
    "2**3\n",
    "\n"
   ]
  },
  {
   "cell_type": "code",
   "execution_count": 19,
   "id": "ae33c1c5-9b95-4804-a4c4-605013619538",
   "metadata": {},
   "outputs": [
    {
     "data": {
      "text/plain": [
       "7.0"
      ]
     },
     "execution_count": 19,
     "metadata": {},
     "output_type": "execute_result"
    }
   ],
   "source": [
    "(5+16)/3"
   ]
  },
  {
   "cell_type": "code",
   "execution_count": 23,
   "id": "3327244c-9666-477a-b872-7d02c726ca65",
   "metadata": {},
   "outputs": [
    {
     "data": {
      "text/plain": [
       "17"
      ]
     },
     "execution_count": 23,
     "metadata": {},
     "output_type": "execute_result"
    }
   ],
   "source": [
    "#This is a simple arithmetic expression to multiply then add integers.\n",
    "3*4+5"
   ]
  },
  {
   "cell_type": "code",
   "execution_count": 25,
   "id": "3bcc629b-cb48-4cbd-b5b7-11fee6712dc1",
   "metadata": {},
   "outputs": [
    {
     "data": {
      "text/plain": [
       "3.3333333333333335"
      ]
     },
     "execution_count": 25,
     "metadata": {},
     "output_type": "execute_result"
    }
   ],
   "source": [
    "#This will convert 200 minutes to hours by dividing by 60.\n",
    "200/60"
   ]
  },
  {
   "cell_type": "code",
   "execution_count": null,
   "id": "7bdc1b87-bbad-4d61-a860-edad0ee25172",
   "metadata": {},
   "outputs": [],
   "source": [
    "##Author\n"
   ]
  }
 ],
 "metadata": {
  "kernelspec": {
   "display_name": "anaconda-2024.02-py310",
   "language": "python",
   "name": "conda-env-anaconda-2024.02-py310-py"
  },
  "language_info": {
   "codemirror_mode": {
    "name": "ipython",
    "version": 3
   },
   "file_extension": ".py",
   "mimetype": "text/x-python",
   "name": "python",
   "nbconvert_exporter": "python",
   "pygments_lexer": "ipython3",
   "version": "3.10.14"
  }
 },
 "nbformat": 4,
 "nbformat_minor": 5
}
